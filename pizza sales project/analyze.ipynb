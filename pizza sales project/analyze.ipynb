{
 "cells": [
  {
   "cell_type": "markdown",
   "metadata": {},
   "source": [
    "#### importing needed materail and checking"
   ]
  },
  {
   "cell_type": "code",
   "execution_count": 150,
   "metadata": {},
   "outputs": [],
   "source": [
    "import pandas as pd\n",
    "import matplotlib.pyplot as plt\n",
    "import numpy as np \n",
    "import seaborn as sns   \n"
   ]
  },
  {
   "cell_type": "code",
   "execution_count": null,
   "metadata": {},
   "outputs": [],
   "source": [
    "pizza_sales = pd.read_excel('pizza_sales.xlsx')\n",
    "pizza_sales.head(2)"
   ]
  },
  {
   "cell_type": "code",
   "execution_count": null,
   "metadata": {},
   "outputs": [],
   "source": [
    "pizza_size = pd.read_csv('pizza_size.csv')\n",
    "pizza_size.head(10)"
   ]
  },
  {
   "cell_type": "code",
   "execution_count": null,
   "metadata": {},
   "outputs": [],
   "source": [
    "pizza_cat = pd.read_csv('pizza_category.csv')\n",
    "pizza_cat.head(2)"
   ]
  },
  {
   "cell_type": "markdown",
   "metadata": {},
   "source": [
    "#### checking null and duplicated info and summing them up!"
   ]
  },
  {
   "cell_type": "code",
   "execution_count": 23,
   "metadata": {},
   "outputs": [],
   "source": [
    "null_vals_in_pizza_sales = pizza_sales.isnull().sum()\n",
    "null_vals_in_pizza_size = pizza_size.isnull().sum()\n",
    "null_vals_in_pizza_cat = pizza_cat.isnull().sum()"
   ]
  },
  {
   "cell_type": "code",
   "execution_count": null,
   "metadata": {},
   "outputs": [],
   "source": [
    "duplicated_vals_in_pizza_sales = pizza_sales.duplicated().sum()\n",
    "duplicated_vals_in_pizza_size = pizza_size.duplicated().sum()\n",
    "duplicated_vals_in_pizza_cat = pizza_cat.duplicated().sum()\n",
    "pizza_sales"
   ]
  },
  {
   "cell_type": "markdown",
   "metadata": {},
   "source": [
    "#### slicing single columns, multi column and extracting rows from pizza_sales data frame"
   ]
  },
  {
   "cell_type": "code",
   "execution_count": 31,
   "metadata": {},
   "outputs": [
    {
     "data": {
      "text/plain": [
       "49574"
      ]
     },
     "execution_count": 31,
     "metadata": {},
     "output_type": "execute_result"
    }
   ],
   "source": [
    "quantity_pizza_sales = pizza_sales['quantity']\n",
    "quantity_pizza_sales\n",
    "total_quantity_pizza_sales = quantity_pizza_sales.sum()\n",
    "total_quantity_pizza_sales"
   ]
  },
  {
   "cell_type": "code",
   "execution_count": null,
   "metadata": {},
   "outputs": [],
   "source": [
    "quantity_orderID_price = pizza_sales[['quantity','order_id', 'unit_price']]\n",
    "quantity_orderID_price"
   ]
  },
  {
   "cell_type": "code",
   "execution_count": 49,
   "metadata": {},
   "outputs": [],
   "source": [
    "row3 = pizza_sales.loc[3]\n",
    "row3and5 = pizza_sales.loc[[3,5]]\n",
    "row3to5 = pizza_sales.loc[3:5]"
   ]
  },
  {
   "cell_type": "code",
   "execution_count": 53,
   "metadata": {},
   "outputs": [
    {
     "data": {
      "text/html": [
       "<div>\n",
       "<style scoped>\n",
       "    .dataframe tbody tr th:only-of-type {\n",
       "        vertical-align: middle;\n",
       "    }\n",
       "\n",
       "    .dataframe tbody tr th {\n",
       "        vertical-align: top;\n",
       "    }\n",
       "\n",
       "    .dataframe thead th {\n",
       "        text-align: right;\n",
       "    }\n",
       "</style>\n",
       "<table border=\"1\" class=\"dataframe\">\n",
       "  <thead>\n",
       "    <tr style=\"text-align: right;\">\n",
       "      <th></th>\n",
       "      <th>quantity</th>\n",
       "      <th>order_id</th>\n",
       "    </tr>\n",
       "  </thead>\n",
       "  <tbody>\n",
       "    <tr>\n",
       "      <th>3</th>\n",
       "      <td>1</td>\n",
       "      <td>2</td>\n",
       "    </tr>\n",
       "    <tr>\n",
       "      <th>5</th>\n",
       "      <td>1</td>\n",
       "      <td>2</td>\n",
       "    </tr>\n",
       "  </tbody>\n",
       "</table>\n",
       "</div>"
      ],
      "text/plain": [
       "   quantity  order_id\n",
       "3         1         2\n",
       "5         1         2"
      ]
     },
     "execution_count": 53,
     "metadata": {},
     "output_type": "execute_result"
    }
   ],
   "source": [
    "row_col = pizza_sales.loc[[3,5], [   'quantity' ,'order_id']]\n",
    "row_col"
   ]
  },
  {
   "cell_type": "code",
   "execution_count": null,
   "metadata": {},
   "outputs": [],
   "source": [
    "row_col = pizza_sales.loc[:, [   'quantity' ,'order_id']]\n",
    "row_col\n"
   ]
  },
  {
   "cell_type": "markdown",
   "metadata": {},
   "source": [
    "#### indexing"
   ]
  },
  {
   "cell_type": "code",
   "execution_count": 58,
   "metadata": {},
   "outputs": [],
   "source": [
    "pizza_sales.set_index('order_id', inplace=True)"
   ]
  },
  {
   "cell_type": "code",
   "execution_count": 59,
   "metadata": {},
   "outputs": [],
   "source": [
    "pizza_sales.reset_index(inplace=True)"
   ]
  },
  {
   "cell_type": "markdown",
   "metadata": {},
   "source": [
    "#### truncate data frame before index=3"
   ]
  },
  {
   "cell_type": "code",
   "execution_count": 62,
   "metadata": {},
   "outputs": [],
   "source": [
    "pizza_sales_truncated_before = pizza_sales.truncate(before=3)"
   ]
  },
  {
   "cell_type": "markdown",
   "metadata": {},
   "source": [
    "#### truncate data frame after index=3"
   ]
  },
  {
   "cell_type": "code",
   "execution_count": null,
   "metadata": {},
   "outputs": [],
   "source": [
    "pizza_sales_truncated_after = pizza_sales.truncate(after=3)\n",
    "pizza_sales_truncated_after"
   ]
  },
  {
   "cell_type": "markdown",
   "metadata": {},
   "source": [
    "#### filtering "
   ]
  },
  {
   "cell_type": "code",
   "execution_count": null,
   "metadata": {},
   "outputs": [],
   "source": [
    "price_more_than20 = pizza_sales[pizza_sales['unit_price']>20]\n",
    "price_more_than20"
   ]
  },
  {
   "cell_type": "markdown",
   "metadata": {},
   "source": [
    "#### missing values"
   ]
  },
  {
   "cell_type": "code",
   "execution_count": 79,
   "metadata": {},
   "outputs": [],
   "source": [
    "dropped_null_pizza_sales = pizza_sales.dropna()\n",
    "filled_null_pizza_sales = pizza_sales.fillna('0')"
   ]
  },
  {
   "cell_type": "markdown",
   "metadata": {},
   "source": [
    "#### removing one row form data frame. tip! axis=0 for row and axis=1 cor column"
   ]
  },
  {
   "cell_type": "code",
   "execution_count": 83,
   "metadata": {},
   "outputs": [],
   "source": [
    "filteredDF1 = pizza_sales.drop(2, axis=0)"
   ]
  },
  {
   "cell_type": "markdown",
   "metadata": {},
   "source": [
    "#### removing some rows form data frame. tip! axis=0 for row and axis=1 cor column"
   ]
  },
  {
   "cell_type": "code",
   "execution_count": 84,
   "metadata": {},
   "outputs": [],
   "source": [
    "filteredDF2 = pizza_sales.drop([2,3,5], axis=0)"
   ]
  },
  {
   "cell_type": "markdown",
   "metadata": {},
   "source": [
    "#### removing one column form data frame base on col's name. tip!  axis=1 cor column"
   ]
  },
  {
   "cell_type": "code",
   "execution_count": 92,
   "metadata": {},
   "outputs": [
    {
     "name": "stdout",
     "output_type": "stream",
     "text": [
      "number of cols in pizza sales is 12 while that of filtered3 is 11\n"
     ]
    }
   ],
   "source": [
    "filteredDF3 = pizza_sales.drop('unit_price', axis=1)\n",
    "len_piz_sales = len(pizza_sales.columns)\n",
    "len_filtered3 = len(filteredDF3.columns)\n",
    "print(f\"number of cols in pizza sales is {len_piz_sales} while that of filtered3 is {len_filtered3}\")"
   ]
  },
  {
   "cell_type": "markdown",
   "metadata": {},
   "source": [
    "#### removing some column form data frame base on col's name."
   ]
  },
  {
   "cell_type": "code",
   "execution_count": 97,
   "metadata": {},
   "outputs": [
    {
     "name": "stdout",
     "output_type": "stream",
     "text": [
      "# cols in sales pizza is 12 while that of filtered4 is 3\n"
     ]
    }
   ],
   "source": [
    "# pizza_sales.columns\n",
    "filteredDF4 = pizza_sales.drop([\n",
    "    'order_time', 'unit_price', 'total_price','order_date','order_id',\n",
    "    'order_details_id', 'pizza_id','pizza_category_id','pizza_size_id'],\n",
    " axis=1)\n",
    "a = len(pizza_sales.columns)\n",
    "b = len(filteredDF4.columns)\n",
    "print(f\"# cols in sales pizza is {a} while that of filtered4 is {b}\")"
   ]
  },
  {
   "cell_type": "markdown",
   "metadata": {},
   "source": [
    "#### sorting data frame using pandas"
   ]
  },
  {
   "cell_type": "code",
   "execution_count": 99,
   "metadata": {},
   "outputs": [],
   "source": [
    "sorted1 = pizza_sales.sort_values('unit_price')\n",
    "sorted2 = pizza_sales.sort_values(['unit_price', 'total_price'], ascending=False)"
   ]
  },
  {
   "cell_type": "markdown",
   "metadata": {},
   "source": [
    "#### grouping  based on pizza size id (count)\n"
   ]
  },
  {
   "cell_type": "code",
   "execution_count": 110,
   "metadata": {},
   "outputs": [
    {
     "data": {
      "text/html": [
       "<div>\n",
       "<style scoped>\n",
       "    .dataframe tbody tr th:only-of-type {\n",
       "        vertical-align: middle;\n",
       "    }\n",
       "\n",
       "    .dataframe tbody tr th {\n",
       "        vertical-align: top;\n",
       "    }\n",
       "\n",
       "    .dataframe thead th {\n",
       "        text-align: right;\n",
       "    }\n",
       "</style>\n",
       "<table border=\"1\" class=\"dataframe\">\n",
       "  <thead>\n",
       "    <tr style=\"text-align: right;\">\n",
       "      <th></th>\n",
       "      <th>order_id</th>\n",
       "      <th>order_details_id</th>\n",
       "      <th>pizza_id</th>\n",
       "      <th>quantity</th>\n",
       "      <th>order_date</th>\n",
       "      <th>order_time</th>\n",
       "      <th>unit_price</th>\n",
       "      <th>total_price</th>\n",
       "      <th>pizza_category_id</th>\n",
       "      <th>pizza_ingredients</th>\n",
       "      <th>pizza_name</th>\n",
       "    </tr>\n",
       "    <tr>\n",
       "      <th>pizza_size_id</th>\n",
       "      <th></th>\n",
       "      <th></th>\n",
       "      <th></th>\n",
       "      <th></th>\n",
       "      <th></th>\n",
       "      <th></th>\n",
       "      <th></th>\n",
       "      <th></th>\n",
       "      <th></th>\n",
       "      <th></th>\n",
       "      <th></th>\n",
       "    </tr>\n",
       "  </thead>\n",
       "  <tbody>\n",
       "    <tr>\n",
       "      <th>1</th>\n",
       "      <td>14137</td>\n",
       "      <td>14137</td>\n",
       "      <td>14137</td>\n",
       "      <td>14137</td>\n",
       "      <td>14136</td>\n",
       "      <td>14137</td>\n",
       "      <td>14137</td>\n",
       "      <td>14137</td>\n",
       "      <td>14137</td>\n",
       "      <td>14137</td>\n",
       "      <td>14137</td>\n",
       "    </tr>\n",
       "    <tr>\n",
       "      <th>2</th>\n",
       "      <td>15385</td>\n",
       "      <td>15385</td>\n",
       "      <td>15385</td>\n",
       "      <td>15385</td>\n",
       "      <td>15385</td>\n",
       "      <td>15385</td>\n",
       "      <td>15385</td>\n",
       "      <td>15385</td>\n",
       "      <td>15385</td>\n",
       "      <td>15385</td>\n",
       "      <td>15385</td>\n",
       "    </tr>\n",
       "    <tr>\n",
       "      <th>3</th>\n",
       "      <td>18526</td>\n",
       "      <td>18526</td>\n",
       "      <td>18526</td>\n",
       "      <td>18526</td>\n",
       "      <td>18526</td>\n",
       "      <td>18526</td>\n",
       "      <td>18526</td>\n",
       "      <td>18526</td>\n",
       "      <td>18526</td>\n",
       "      <td>18526</td>\n",
       "      <td>18526</td>\n",
       "    </tr>\n",
       "    <tr>\n",
       "      <th>4</th>\n",
       "      <td>544</td>\n",
       "      <td>544</td>\n",
       "      <td>544</td>\n",
       "      <td>544</td>\n",
       "      <td>544</td>\n",
       "      <td>544</td>\n",
       "      <td>544</td>\n",
       "      <td>544</td>\n",
       "      <td>544</td>\n",
       "      <td>544</td>\n",
       "      <td>544</td>\n",
       "    </tr>\n",
       "    <tr>\n",
       "      <th>5</th>\n",
       "      <td>28</td>\n",
       "      <td>28</td>\n",
       "      <td>28</td>\n",
       "      <td>28</td>\n",
       "      <td>27</td>\n",
       "      <td>28</td>\n",
       "      <td>28</td>\n",
       "      <td>28</td>\n",
       "      <td>28</td>\n",
       "      <td>28</td>\n",
       "      <td>28</td>\n",
       "    </tr>\n",
       "  </tbody>\n",
       "</table>\n",
       "</div>"
      ],
      "text/plain": [
       "               order_id  order_details_id  pizza_id  quantity  order_date  \\\n",
       "pizza_size_id                                                               \n",
       "1                 14137             14137     14137     14137       14136   \n",
       "2                 15385             15385     15385     15385       15385   \n",
       "3                 18526             18526     18526     18526       18526   \n",
       "4                   544               544       544       544         544   \n",
       "5                    28                28        28        28          27   \n",
       "\n",
       "               order_time  unit_price  total_price  pizza_category_id  \\\n",
       "pizza_size_id                                                           \n",
       "1                   14137       14137        14137              14137   \n",
       "2                   15385       15385        15385              15385   \n",
       "3                   18526       18526        18526              18526   \n",
       "4                     544         544          544                544   \n",
       "5                      28          28           28                 28   \n",
       "\n",
       "               pizza_ingredients  pizza_name  \n",
       "pizza_size_id                                 \n",
       "1                          14137       14137  \n",
       "2                          15385       15385  \n",
       "3                          18526       18526  \n",
       "4                            544         544  \n",
       "5                             28          28  "
      ]
     },
     "execution_count": 110,
     "metadata": {},
     "output_type": "execute_result"
    }
   ],
   "source": [
    "gpd_by_pizza_size_id = pizza_sales.groupby(['pizza_size_id'])\n",
    "gpd_by_pizza_size_id.count()"
   ]
  },
  {
   "cell_type": "markdown",
   "metadata": {},
   "source": [
    "#### grouping  based on pizza size id (sum)\n"
   ]
  },
  {
   "cell_type": "code",
   "execution_count": 114,
   "metadata": {},
   "outputs": [
    {
     "data": {
      "text/plain": [
       "pizza_size_id\n",
       "1    178076.50\n",
       "2    249382.25\n",
       "3    375318.70\n",
       "4     14076.00\n",
       "5      1006.60\n",
       "Name: total_price, dtype: float64"
      ]
     },
     "execution_count": 114,
     "metadata": {},
     "output_type": "execute_result"
    }
   ],
   "source": [
    "pizza_sales.groupby(['pizza_size_id'])['total_price'].sum()"
   ]
  },
  {
   "cell_type": "code",
   "execution_count": 116,
   "metadata": {},
   "outputs": [
    {
     "data": {
      "text/html": [
       "<div>\n",
       "<style scoped>\n",
       "    .dataframe tbody tr th:only-of-type {\n",
       "        vertical-align: middle;\n",
       "    }\n",
       "\n",
       "    .dataframe tbody tr th {\n",
       "        vertical-align: top;\n",
       "    }\n",
       "\n",
       "    .dataframe thead th {\n",
       "        text-align: right;\n",
       "    }\n",
       "</style>\n",
       "<table border=\"1\" class=\"dataframe\">\n",
       "  <thead>\n",
       "    <tr style=\"text-align: right;\">\n",
       "      <th></th>\n",
       "      <th>total_price</th>\n",
       "      <th>quantity</th>\n",
       "    </tr>\n",
       "    <tr>\n",
       "      <th>pizza_size_id</th>\n",
       "      <th></th>\n",
       "      <th></th>\n",
       "    </tr>\n",
       "  </thead>\n",
       "  <tbody>\n",
       "    <tr>\n",
       "      <th>1</th>\n",
       "      <td>178076.50</td>\n",
       "      <td>14403</td>\n",
       "    </tr>\n",
       "    <tr>\n",
       "      <th>2</th>\n",
       "      <td>249382.25</td>\n",
       "      <td>15635</td>\n",
       "    </tr>\n",
       "    <tr>\n",
       "      <th>3</th>\n",
       "      <td>375318.70</td>\n",
       "      <td>18956</td>\n",
       "    </tr>\n",
       "    <tr>\n",
       "      <th>4</th>\n",
       "      <td>14076.00</td>\n",
       "      <td>552</td>\n",
       "    </tr>\n",
       "    <tr>\n",
       "      <th>5</th>\n",
       "      <td>1006.60</td>\n",
       "      <td>28</td>\n",
       "    </tr>\n",
       "  </tbody>\n",
       "</table>\n",
       "</div>"
      ],
      "text/plain": [
       "               total_price  quantity\n",
       "pizza_size_id                       \n",
       "1                178076.50     14403\n",
       "2                249382.25     15635\n",
       "3                375318.70     18956\n",
       "4                 14076.00       552\n",
       "5                  1006.60        28"
      ]
     },
     "execution_count": 116,
     "metadata": {},
     "output_type": "execute_result"
    }
   ],
   "source": [
    "pizza_sales.groupby(['pizza_size_id'])[['total_price', 'quantity']].sum()"
   ]
  },
  {
   "cell_type": "markdown",
   "metadata": {},
   "source": [
    "#### merging: creating a mergedDF including all 3 data frames"
   ]
  },
  {
   "cell_type": "code",
   "execution_count": 120,
   "metadata": {},
   "outputs": [],
   "source": [
    "# pd.merge(df1, df2, common col as key )\n",
    "mergedDF = pd.merge(pizza_sales,pizza_size, on='pizza_size_id')\n",
    "mergedDF = pd.merge(pizza_sales,pizza_cat, on=\"pizza_category_id\")\n"
   ]
  },
  {
   "cell_type": "markdown",
   "metadata": {},
   "source": [
    "#### concatenating vertically"
   ]
  },
  {
   "cell_type": "code",
   "execution_count": 132,
   "metadata": {},
   "outputs": [
    {
     "name": "stdout",
     "output_type": "stream",
     "text": [
      " size of pizza sales is 583440 \n",
      " size of another pizza sales is 96 \n",
      " size of concatenated is 583536\n"
     ]
    }
   ],
   "source": [
    "another_pizza_sales = pd.read_excel('another_pizza_sales.xlsx')\n",
    "overall_pizza_sales = pd.concat([pizza_sales,another_pizza_sales])\n",
    "overall_pizza_sales.reset_index()\n",
    "a = pizza_sales.size\n",
    "b = another_pizza_sales.size\n",
    "c = overall_pizza_sales.size \n",
    "print(f\" size of pizza sales is {a} \\n size of another pizza sales is {b} \\n size of concatenated is {c}\")"
   ]
  },
  {
   "cell_type": "markdown",
   "metadata": {},
   "source": [
    "#### concatenating horizontally"
   ]
  },
  {
   "cell_type": "code",
   "execution_count": 136,
   "metadata": {},
   "outputs": [],
   "source": [
    "voucher = pd.read_excel('pizza_sales_voucher.xlsx')\n",
    "concat_horizontal = pd.concat([overall_pizza_sales, voucher], axis= 1)"
   ]
  },
  {
   "cell_type": "markdown",
   "metadata": {},
   "source": [
    "#### replacing text"
   ]
  },
  {
   "cell_type": "code",
   "execution_count": 137,
   "metadata": {},
   "outputs": [],
   "source": [
    "replaced_text = pizza_sales['pizza_ingredients'].str.replace('feta cheese', 'Mozzarella')"
   ]
  },
  {
   "cell_type": "markdown",
   "metadata": {},
   "source": [
    "#### removing white space form cols"
   ]
  },
  {
   "cell_type": "code",
   "execution_count": 138,
   "metadata": {},
   "outputs": [],
   "source": [
    "pizza_sales['pizza_ingredients'] = pizza_sales['pizza_ingredients'].str.strip()"
   ]
  },
  {
   "cell_type": "markdown",
   "metadata": {},
   "source": [
    "#### generating a boxplot"
   ]
  },
  {
   "cell_type": "code",
   "execution_count": 155,
   "metadata": {},
   "outputs": [
    {
     "data": {
      "image/png": "[encoded data removed]",
      "text/plain": [
       "<Figure size 640x480 with 1 Axes>"
      ]
     },
     "metadata": {},
     "output_type": "display_data"
    }
   ],
   "source": [
    "# concat_horizontal.columns\n",
    "sns.boxplot(x='pizza_category_id', y='total_price', data=concat_horizontal)\n",
    "plt.xlabel('pizza category')\n",
    "plt.ylabel('pizza price')\n",
    "plt.title('this is the box plot')\n",
    "plt.show() "
   ]
  },
  {
   "cell_type": "code",
   "execution_count": null,
   "metadata": {},
   "outputs": [],
   "source": []
  }
 ],
 "metadata": {
  "language_info": {
   "name": "python"
  }
 },
 "nbformat": 4,
 "nbformat_minor": 2
}
